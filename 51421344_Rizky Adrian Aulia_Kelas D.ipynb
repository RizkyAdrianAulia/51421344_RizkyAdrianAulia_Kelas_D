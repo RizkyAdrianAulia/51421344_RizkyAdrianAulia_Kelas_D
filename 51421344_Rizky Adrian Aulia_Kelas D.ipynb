{
 "cells": [
  {
   "cell_type": "markdown",
   "id": "10f4f444-96d6-4943-a3b4-0ecb1b27ea94",
   "metadata": {},
   "source": [
    "## Import Library"
   ]
  },
  {
   "cell_type": "code",
   "execution_count": 2,
   "id": "cc348468-7783-43c1-972b-696ee7e1f42a",
   "metadata": {},
   "outputs": [],
   "source": [
    "# Mengimport Library yang dibutuhkan\n",
    "import pandas as pd\n",
    "import numpy as np\n",
    "import seaborn as sns\n",
    "import matplotlib.pyplot as plt\n",
    "from sklearn import metrics\n",
    "from sklearn.metrics import classification_report\n",
    "\n",
    "from sklearn.preprocessing import StandardScaler\n",
    "from scipy.stats.mstats import winsorize\n",
    "from sklearn.preprocessing import RobustScaler\n",
    "from sklearn import preprocessing\n",
    "\n",
    "from sklearn.linear_model import LinearRegression\n",
    "from sklearn.linear_model import LogisticRegression\n",
    "from sklearn.neighbors import KNeighborsClassifier\n",
    "\n",
    "from sklearn.model_selection import train_test_split\n",
    "\n",
    "from sklearn.model_selection import cross_val_score, KFold\n",
    "from sklearn.neighbors import KNeighborsClassifier\n",
    "from sklearn.metrics import accuracy_score, classification_report, roc_auc_score\n",
    "from sklearn.metrics import mean_squared_error, r2_score"
   ]
  },
  {
   "cell_type": "markdown",
   "id": "a0f7b492-d663-453e-b693-e2a842700e02",
   "metadata": {},
   "source": [
    "## Data Understanding"
   ]
  },
  {
   "cell_type": "code",
   "execution_count": 3,
   "id": "6a6778f0-e8be-454c-ad2c-792f074e4458",
   "metadata": {},
   "outputs": [],
   "source": [
    "df = pd.read_csv(\"data_tanaman_padi_sumatra.csv\")"
   ]
  },
  {
   "cell_type": "code",
   "execution_count": 4,
   "id": "1c65b488-3068-4c58-a135-a85cee824570",
   "metadata": {},
   "outputs": [
    {
     "data": {
      "text/html": [
       "<div>\n",
       "<style scoped>\n",
       "    .dataframe tbody tr th:only-of-type {\n",
       "        vertical-align: middle;\n",
       "    }\n",
       "\n",
       "    .dataframe tbody tr th {\n",
       "        vertical-align: top;\n",
       "    }\n",
       "\n",
       "    .dataframe thead th {\n",
       "        text-align: right;\n",
       "    }\n",
       "</style>\n",
       "<table border=\"1\" class=\"dataframe\">\n",
       "  <thead>\n",
       "    <tr style=\"text-align: right;\">\n",
       "      <th></th>\n",
       "      <th>Provinsi</th>\n",
       "      <th>Tahun</th>\n",
       "      <th>Produksi</th>\n",
       "      <th>Luas Panen</th>\n",
       "      <th>Curah hujan</th>\n",
       "      <th>Kelembapan</th>\n",
       "      <th>Suhu rata-rata</th>\n",
       "    </tr>\n",
       "  </thead>\n",
       "  <tbody>\n",
       "    <tr>\n",
       "      <th>0</th>\n",
       "      <td>Aceh</td>\n",
       "      <td>1993</td>\n",
       "      <td>1329536.0</td>\n",
       "      <td>323589.0</td>\n",
       "      <td>1627.0</td>\n",
       "      <td>82.00</td>\n",
       "      <td>26.06</td>\n",
       "    </tr>\n",
       "    <tr>\n",
       "      <th>1</th>\n",
       "      <td>Aceh</td>\n",
       "      <td>1994</td>\n",
       "      <td>1299699.0</td>\n",
       "      <td>329041.0</td>\n",
       "      <td>1521.0</td>\n",
       "      <td>82.12</td>\n",
       "      <td>26.92</td>\n",
       "    </tr>\n",
       "    <tr>\n",
       "      <th>2</th>\n",
       "      <td>Aceh</td>\n",
       "      <td>1995</td>\n",
       "      <td>1382905.0</td>\n",
       "      <td>339253.0</td>\n",
       "      <td>1476.0</td>\n",
       "      <td>82.72</td>\n",
       "      <td>26.27</td>\n",
       "    </tr>\n",
       "    <tr>\n",
       "      <th>3</th>\n",
       "      <td>Aceh</td>\n",
       "      <td>1996</td>\n",
       "      <td>1419128.0</td>\n",
       "      <td>348223.0</td>\n",
       "      <td>1557.0</td>\n",
       "      <td>83.00</td>\n",
       "      <td>26.08</td>\n",
       "    </tr>\n",
       "    <tr>\n",
       "      <th>4</th>\n",
       "      <td>Aceh</td>\n",
       "      <td>1997</td>\n",
       "      <td>1368074.0</td>\n",
       "      <td>337561.0</td>\n",
       "      <td>1339.0</td>\n",
       "      <td>82.46</td>\n",
       "      <td>26.31</td>\n",
       "    </tr>\n",
       "  </tbody>\n",
       "</table>\n",
       "</div>"
      ],
      "text/plain": [
       "  Provinsi  Tahun   Produksi  Luas Panen  Curah hujan  Kelembapan  \\\n",
       "0     Aceh   1993  1329536.0    323589.0       1627.0       82.00   \n",
       "1     Aceh   1994  1299699.0    329041.0       1521.0       82.12   \n",
       "2     Aceh   1995  1382905.0    339253.0       1476.0       82.72   \n",
       "3     Aceh   1996  1419128.0    348223.0       1557.0       83.00   \n",
       "4     Aceh   1997  1368074.0    337561.0       1339.0       82.46   \n",
       "\n",
       "   Suhu rata-rata  \n",
       "0           26.06  \n",
       "1           26.92  \n",
       "2           26.27  \n",
       "3           26.08  \n",
       "4           26.31  "
      ]
     },
     "execution_count": 4,
     "metadata": {},
     "output_type": "execute_result"
    }
   ],
   "source": [
    "df.head()"
   ]
  },
  {
   "cell_type": "code",
   "execution_count": 5,
   "id": "4d2059d5-4ce9-44aa-8a3f-295ff587524a",
   "metadata": {},
   "outputs": [
    {
     "data": {
      "text/plain": [
       "Provinsi           object\n",
       "Tahun               int64\n",
       "Produksi          float64\n",
       "Luas Panen        float64\n",
       "Curah hujan       float64\n",
       "Kelembapan        float64\n",
       "Suhu rata-rata    float64\n",
       "dtype: object"
      ]
     },
     "execution_count": 5,
     "metadata": {},
     "output_type": "execute_result"
    }
   ],
   "source": [
    "df.dtypes"
   ]
  },
  {
   "cell_type": "code",
   "execution_count": 6,
   "id": "1d1a06cb-e681-4e15-bbf4-6bade1e88194",
   "metadata": {},
   "outputs": [
    {
     "name": "stdout",
     "output_type": "stream",
     "text": [
      "Jumlah Baris :  224\n",
      "Jumlah Baris :  7\n"
     ]
    }
   ],
   "source": [
    "print(\"Jumlah Baris : \", df.shape[0])\n",
    "print(\"Jumlah Baris : \", df.shape[1])"
   ]
  },
  {
   "cell_type": "code",
   "execution_count": 7,
   "id": "9af1f9ab-f346-45ab-b7b5-af0fb808c30e",
   "metadata": {},
   "outputs": [
    {
     "data": {
      "text/html": [
       "<div>\n",
       "<style scoped>\n",
       "    .dataframe tbody tr th:only-of-type {\n",
       "        vertical-align: middle;\n",
       "    }\n",
       "\n",
       "    .dataframe tbody tr th {\n",
       "        vertical-align: top;\n",
       "    }\n",
       "\n",
       "    .dataframe thead th {\n",
       "        text-align: right;\n",
       "    }\n",
       "</style>\n",
       "<table border=\"1\" class=\"dataframe\">\n",
       "  <thead>\n",
       "    <tr style=\"text-align: right;\">\n",
       "      <th></th>\n",
       "      <th>Tahun</th>\n",
       "      <th>Produksi</th>\n",
       "      <th>Luas Panen</th>\n",
       "      <th>Curah hujan</th>\n",
       "      <th>Kelembapan</th>\n",
       "      <th>Suhu rata-rata</th>\n",
       "    </tr>\n",
       "  </thead>\n",
       "  <tbody>\n",
       "    <tr>\n",
       "      <th>count</th>\n",
       "      <td>224.000000</td>\n",
       "      <td>2.240000e+02</td>\n",
       "      <td>224.000000</td>\n",
       "      <td>224.000000</td>\n",
       "      <td>224.000000</td>\n",
       "      <td>224.000000</td>\n",
       "    </tr>\n",
       "    <tr>\n",
       "      <th>mean</th>\n",
       "      <td>2006.500000</td>\n",
       "      <td>1.679701e+06</td>\n",
       "      <td>374349.966920</td>\n",
       "      <td>2452.490759</td>\n",
       "      <td>80.948705</td>\n",
       "      <td>26.801964</td>\n",
       "    </tr>\n",
       "    <tr>\n",
       "      <th>std</th>\n",
       "      <td>8.095838</td>\n",
       "      <td>1.161387e+06</td>\n",
       "      <td>232751.161987</td>\n",
       "      <td>1031.972625</td>\n",
       "      <td>4.878680</td>\n",
       "      <td>1.197041</td>\n",
       "    </tr>\n",
       "    <tr>\n",
       "      <th>min</th>\n",
       "      <td>1993.000000</td>\n",
       "      <td>4.293800e+04</td>\n",
       "      <td>63142.040000</td>\n",
       "      <td>222.500000</td>\n",
       "      <td>54.200000</td>\n",
       "      <td>22.190000</td>\n",
       "    </tr>\n",
       "    <tr>\n",
       "      <th>25%</th>\n",
       "      <td>1999.750000</td>\n",
       "      <td>5.488570e+05</td>\n",
       "      <td>146919.500000</td>\n",
       "      <td>1703.525000</td>\n",
       "      <td>78.975000</td>\n",
       "      <td>26.177500</td>\n",
       "    </tr>\n",
       "    <tr>\n",
       "      <th>50%</th>\n",
       "      <td>2006.500000</td>\n",
       "      <td>1.667773e+06</td>\n",
       "      <td>373551.500000</td>\n",
       "      <td>2315.700000</td>\n",
       "      <td>82.375000</td>\n",
       "      <td>26.730000</td>\n",
       "    </tr>\n",
       "    <tr>\n",
       "      <th>75%</th>\n",
       "      <td>2013.250000</td>\n",
       "      <td>2.436851e+06</td>\n",
       "      <td>514570.250000</td>\n",
       "      <td>3039.700000</td>\n",
       "      <td>84.000000</td>\n",
       "      <td>27.200000</td>\n",
       "    </tr>\n",
       "    <tr>\n",
       "      <th>max</th>\n",
       "      <td>2020.000000</td>\n",
       "      <td>4.881089e+06</td>\n",
       "      <td>872737.000000</td>\n",
       "      <td>5522.000000</td>\n",
       "      <td>90.600000</td>\n",
       "      <td>29.850000</td>\n",
       "    </tr>\n",
       "  </tbody>\n",
       "</table>\n",
       "</div>"
      ],
      "text/plain": [
       "             Tahun      Produksi     Luas Panen  Curah hujan  Kelembapan  \\\n",
       "count   224.000000  2.240000e+02     224.000000   224.000000  224.000000   \n",
       "mean   2006.500000  1.679701e+06  374349.966920  2452.490759   80.948705   \n",
       "std       8.095838  1.161387e+06  232751.161987  1031.972625    4.878680   \n",
       "min    1993.000000  4.293800e+04   63142.040000   222.500000   54.200000   \n",
       "25%    1999.750000  5.488570e+05  146919.500000  1703.525000   78.975000   \n",
       "50%    2006.500000  1.667773e+06  373551.500000  2315.700000   82.375000   \n",
       "75%    2013.250000  2.436851e+06  514570.250000  3039.700000   84.000000   \n",
       "max    2020.000000  4.881089e+06  872737.000000  5522.000000   90.600000   \n",
       "\n",
       "       Suhu rata-rata  \n",
       "count      224.000000  \n",
       "mean        26.801964  \n",
       "std          1.197041  \n",
       "min         22.190000  \n",
       "25%         26.177500  \n",
       "50%         26.730000  \n",
       "75%         27.200000  \n",
       "max         29.850000  "
      ]
     },
     "execution_count": 7,
     "metadata": {},
     "output_type": "execute_result"
    }
   ],
   "source": [
    "df.describe()"
   ]
  },
  {
   "cell_type": "code",
   "execution_count": 8,
   "id": "1485a8ff-b800-491f-8465-db8124f65937",
   "metadata": {},
   "outputs": [
    {
     "data": {
      "text/plain": [
       "Provinsi          0\n",
       "Tahun             0\n",
       "Produksi          0\n",
       "Luas Panen        0\n",
       "Curah hujan       0\n",
       "Kelembapan        0\n",
       "Suhu rata-rata    0\n",
       "dtype: int64"
      ]
     },
     "execution_count": 8,
     "metadata": {},
     "output_type": "execute_result"
    }
   ],
   "source": [
    "df.isnull().sum()"
   ]
  },
  {
   "cell_type": "markdown",
   "id": "44020c82-fd09-41e9-bab3-0646b2486ff2",
   "metadata": {},
   "source": [
    "### Mengecek Outlier"
   ]
  },
  {
   "cell_type": "code",
   "execution_count": 9,
   "id": "7465c87f-d710-4e13-9cfc-586973bd0d40",
   "metadata": {},
   "outputs": [
    {
     "data": {
      "text/plain": [
       "Tahun             1.350000e+01\n",
       "Produksi          1.887994e+06\n",
       "Luas Panen        3.676508e+05\n",
       "Curah hujan       1.336175e+03\n",
       "Kelembapan        5.025000e+00\n",
       "Suhu rata-rata    1.022500e+00\n",
       "dtype: float64"
      ]
     },
     "execution_count": 9,
     "metadata": {},
     "output_type": "execute_result"
    }
   ],
   "source": [
    "q1 = df.select_dtypes(exclude=['object']).quantile (0.25)\n",
    "q3 = df.select_dtypes(exclude=['object']).quantile (0.75)\n",
    "iqr = q3-q1\n",
    "iqr"
   ]
  },
  {
   "cell_type": "code",
   "execution_count": 10,
   "id": "1ab6385e-96ec-4189-950b-3fa24b5afc90",
   "metadata": {},
   "outputs": [
    {
     "data": {
      "text/plain": [
       "Tahun             1.979500e+03\n",
       "Produksi         -2.283134e+06\n",
       "Luas Panen       -4.045566e+05\n",
       "Curah hujan      -3.007375e+02\n",
       "Kelembapan        7.143750e+01\n",
       "Suhu rata-rata    2.464375e+01\n",
       "dtype: float64"
      ]
     },
     "execution_count": 10,
     "metadata": {},
     "output_type": "execute_result"
    }
   ],
   "source": [
    "batas_bawah = q1 - (1.5 * iqr)\n",
    "batas_bawah"
   ]
  },
  {
   "cell_type": "code",
   "execution_count": 11,
   "id": "395fb8ee-1559-45fe-8331-7db68ff33df0",
   "metadata": {},
   "outputs": [
    {
     "data": {
      "text/plain": [
       "Tahun             2.033500e+03\n",
       "Produksi          5.268841e+06\n",
       "Luas Panen        1.066046e+06\n",
       "Curah hujan       5.043962e+03\n",
       "Kelembapan        9.153750e+01\n",
       "Suhu rata-rata    2.873375e+01\n",
       "dtype: float64"
      ]
     },
     "execution_count": 11,
     "metadata": {},
     "output_type": "execute_result"
    }
   ],
   "source": [
    "batas_atas = q3 + (1.5 * iqr)\n",
    "batas_atas"
   ]
  },
  {
   "cell_type": "code",
   "execution_count": 12,
   "id": "4ab255e2-f6ac-4d18-94d3-de6e0ed1862e",
   "metadata": {},
   "outputs": [
    {
     "data": {
      "text/html": [
       "<div>\n",
       "<style scoped>\n",
       "    .dataframe tbody tr th:only-of-type {\n",
       "        vertical-align: middle;\n",
       "    }\n",
       "\n",
       "    .dataframe tbody tr th {\n",
       "        vertical-align: top;\n",
       "    }\n",
       "\n",
       "    .dataframe thead th {\n",
       "        text-align: right;\n",
       "    }\n",
       "</style>\n",
       "<table border=\"1\" class=\"dataframe\">\n",
       "  <thead>\n",
       "    <tr style=\"text-align: right;\">\n",
       "      <th></th>\n",
       "      <th>Tahun</th>\n",
       "      <th>Produksi</th>\n",
       "      <th>Luas Panen</th>\n",
       "      <th>Curah hujan</th>\n",
       "      <th>Kelembapan</th>\n",
       "      <th>Suhu rata-rata</th>\n",
       "    </tr>\n",
       "  </thead>\n",
       "  <tbody>\n",
       "    <tr>\n",
       "      <th>0</th>\n",
       "      <td>False</td>\n",
       "      <td>False</td>\n",
       "      <td>False</td>\n",
       "      <td>False</td>\n",
       "      <td>False</td>\n",
       "      <td>False</td>\n",
       "    </tr>\n",
       "    <tr>\n",
       "      <th>1</th>\n",
       "      <td>False</td>\n",
       "      <td>False</td>\n",
       "      <td>False</td>\n",
       "      <td>False</td>\n",
       "      <td>False</td>\n",
       "      <td>False</td>\n",
       "    </tr>\n",
       "    <tr>\n",
       "      <th>2</th>\n",
       "      <td>False</td>\n",
       "      <td>False</td>\n",
       "      <td>False</td>\n",
       "      <td>False</td>\n",
       "      <td>False</td>\n",
       "      <td>False</td>\n",
       "    </tr>\n",
       "    <tr>\n",
       "      <th>3</th>\n",
       "      <td>False</td>\n",
       "      <td>False</td>\n",
       "      <td>False</td>\n",
       "      <td>False</td>\n",
       "      <td>False</td>\n",
       "      <td>False</td>\n",
       "    </tr>\n",
       "    <tr>\n",
       "      <th>4</th>\n",
       "      <td>False</td>\n",
       "      <td>False</td>\n",
       "      <td>False</td>\n",
       "      <td>False</td>\n",
       "      <td>False</td>\n",
       "      <td>False</td>\n",
       "    </tr>\n",
       "    <tr>\n",
       "      <th>...</th>\n",
       "      <td>...</td>\n",
       "      <td>...</td>\n",
       "      <td>...</td>\n",
       "      <td>...</td>\n",
       "      <td>...</td>\n",
       "      <td>...</td>\n",
       "    </tr>\n",
       "    <tr>\n",
       "      <th>219</th>\n",
       "      <td>False</td>\n",
       "      <td>False</td>\n",
       "      <td>False</td>\n",
       "      <td>False</td>\n",
       "      <td>False</td>\n",
       "      <td>False</td>\n",
       "    </tr>\n",
       "    <tr>\n",
       "      <th>220</th>\n",
       "      <td>False</td>\n",
       "      <td>False</td>\n",
       "      <td>False</td>\n",
       "      <td>False</td>\n",
       "      <td>False</td>\n",
       "      <td>False</td>\n",
       "    </tr>\n",
       "    <tr>\n",
       "      <th>221</th>\n",
       "      <td>False</td>\n",
       "      <td>False</td>\n",
       "      <td>False</td>\n",
       "      <td>False</td>\n",
       "      <td>False</td>\n",
       "      <td>False</td>\n",
       "    </tr>\n",
       "    <tr>\n",
       "      <th>222</th>\n",
       "      <td>False</td>\n",
       "      <td>False</td>\n",
       "      <td>False</td>\n",
       "      <td>False</td>\n",
       "      <td>False</td>\n",
       "      <td>False</td>\n",
       "    </tr>\n",
       "    <tr>\n",
       "      <th>223</th>\n",
       "      <td>False</td>\n",
       "      <td>False</td>\n",
       "      <td>False</td>\n",
       "      <td>False</td>\n",
       "      <td>False</td>\n",
       "      <td>True</td>\n",
       "    </tr>\n",
       "  </tbody>\n",
       "</table>\n",
       "<p>224 rows × 6 columns</p>\n",
       "</div>"
      ],
      "text/plain": [
       "     Tahun  Produksi  Luas Panen  Curah hujan  Kelembapan  Suhu rata-rata\n",
       "0    False     False       False        False       False           False\n",
       "1    False     False       False        False       False           False\n",
       "2    False     False       False        False       False           False\n",
       "3    False     False       False        False       False           False\n",
       "4    False     False       False        False       False           False\n",
       "..     ...       ...         ...          ...         ...             ...\n",
       "219  False     False       False        False       False           False\n",
       "220  False     False       False        False       False           False\n",
       "221  False     False       False        False       False           False\n",
       "222  False     False       False        False       False           False\n",
       "223  False     False       False        False       False            True\n",
       "\n",
       "[224 rows x 6 columns]"
      ]
     },
     "execution_count": 12,
     "metadata": {},
     "output_type": "execute_result"
    }
   ],
   "source": [
    "outlier_data = (df.select_dtypes(exclude=['object']) < batas_bawah) | (df.select_dtypes(exclude=['object']) > batas_atas)\n",
    "outlier_data"
   ]
  },
  {
   "cell_type": "code",
   "execution_count": null,
   "id": "444a4450-3ac6-4db5-8908-c05c0dee4d75",
   "metadata": {
    "scrolled": true
   },
   "outputs": [],
   "source": [
    "for col in outlier_filter.columns :\n",
    "\n",
    "    # Exclude kolom dengan tipe data object\n",
    "    if df[col].dtype != object :\n",
    "        print('Nama Kolom:',col)\n",
    "        print(outlier_filter[col].value_counts())\n",
    "        print('-------------------')"
   ]
  },
  {
   "cell_type": "code",
   "execution_count": 14,
   "id": "26f6b19d-37c5-4932-ad28-9061798af2af",
   "metadata": {},
   "outputs": [
    {
     "data": {
      "image/png": "[encoded data removed]",
      "text/plain": [
       "<Figure size 2000x200 with 1 Axes>"
      ]
     },
     "metadata": {},
     "output_type": "display_data"
    },
    {
     "data": {
      "image/png": "[encoded data removed]",
      "text/plain": [
       "<Figure size 2000x200 with 1 Axes>"
      ]
     },
     "metadata": {},
     "output_type": "display_data"
    },
    {
     "data": {
      "image/png": "[encoded data removed]",
      "text/plain": [
       "<Figure size 2000x200 with 1 Axes>"
      ]
     },
     "metadata": {},
     "output_type": "display_data"
    },
    {
     "data": {
      "image/png": "[encoded data removed]",
      "text/plain": [
       "<Figure size 2000x200 with 1 Axes>"
      ]
     },
     "metadata": {},
     "output_type": "display_data"
    },
    {
     "data": {
      "image/png": "[encoded data removed]",
      "text/plain": [
       "<Figure size 2000x200 with 1 Axes>"
      ]
     },
     "metadata": {},
     "output_type": "display_data"
    },
    {
     "data": {
      "image/png": "[encoded data removed]",
      "text/plain": [
       "<Figure size 2000x200 with 1 Axes>"
      ]
     },
     "metadata": {},
     "output_type": "display_data"
    }
   ],
   "source": [
    "df_outlier = df.select_dtypes(exclude=['object'])\n",
    "for column in df_outlier:\n",
    "        plt.figure(figsize=(20,2))\n",
    "        sns.boxplot(data=df_outlier, x=column)"
   ]
  },
  {
   "cell_type": "markdown",
   "id": "0825f381-d0eb-4122-8d2b-7286b395094c",
   "metadata": {},
   "source": [
    "## Data Preparation"
   ]
  },
  {
   "cell_type": "markdown",
   "id": "7695ec32-ae14-4080-84ac-ebc17ff326e4",
   "metadata": {},
   "source": [
    "### Handling Outlier"
   ]
  },
  {
   "cell_type": "code",
   "execution_count": 15,
   "id": "9ef333fc-7b38-49c3-9775-55ade77981ec",
   "metadata": {},
   "outputs": [],
   "source": [
    "df_outlier_data = df[~((df.select_dtypes(exclude=\"object\") < q1 - 1.5 * iqr) | (df.select_dtypes(exclude=\"object\") > q3 + 1.5 * iqr)).any(axis=1)]"
   ]
  },
  {
   "cell_type": "code",
   "execution_count": 16,
   "id": "12664f21-745c-44c6-8ef2-7dd778585bdb",
   "metadata": {},
   "outputs": [
    {
     "data": {
      "text/plain": [
       "(186, 7)"
      ]
     },
     "execution_count": 16,
     "metadata": {},
     "output_type": "execute_result"
    }
   ],
   "source": [
    "df_outlier_data.shape"
   ]
  },
  {
   "cell_type": "code",
   "execution_count": 17,
   "id": "bf01d44b-2d20-475d-91a8-1dc2782dbebf",
   "metadata": {},
   "outputs": [
    {
     "data": {
      "text/plain": [
       "28.7"
      ]
     },
     "execution_count": 17,
     "metadata": {},
     "output_type": "execute_result"
    }
   ],
   "source": [
    "df_outlier_data[\"Suhu rata-rata\"].max()"
   ]
  },
  {
   "cell_type": "code",
   "execution_count": 18,
   "id": "e1e8c9be-dba9-4687-bb53-87114e4dd642",
   "metadata": {},
   "outputs": [
    {
     "data": {
      "text/plain": [
       "24.69"
      ]
     },
     "execution_count": 18,
     "metadata": {},
     "output_type": "execute_result"
    }
   ],
   "source": [
    "df_outlier_data[\"Suhu rata-rata\"].min()"
   ]
  },
  {
   "cell_type": "code",
   "execution_count": 19,
   "id": "a4f73d3d-b684-49dd-956f-6460e10513ca",
   "metadata": {},
   "outputs": [
    {
     "data": {
      "text/plain": [
       "90.6"
      ]
     },
     "execution_count": 19,
     "metadata": {},
     "output_type": "execute_result"
    }
   ],
   "source": [
    "df_outlier_data[\"Kelembapan\"].max()"
   ]
  },
  {
   "cell_type": "code",
   "execution_count": 20,
   "id": "3490291d-4ad7-450f-9278-9dbf0b474cd7",
   "metadata": {},
   "outputs": [
    {
     "data": {
      "text/plain": [
       "71.73"
      ]
     },
     "execution_count": 20,
     "metadata": {},
     "output_type": "execute_result"
    }
   ],
   "source": [
    "df_outlier_data[\"Kelembapan\"].min()"
   ]
  },
  {
   "cell_type": "markdown",
   "id": "4c76a91f-3e3b-4a9c-9563-9dbd9b491269",
   "metadata": {},
   "source": [
    "#### Handling Outlier Kolom Kelembapan"
   ]
  },
  {
   "cell_type": "code",
   "execution_count": 21,
   "id": "46a4a021-e286-45fd-bb48-9288a5780c5a",
   "metadata": {},
   "outputs": [
    {
     "data": {
      "text/plain": [
       "<Axes: xlabel='Suhu rata-rata'>"
      ]
     },
     "execution_count": 21,
     "metadata": {},
     "output_type": "execute_result"
    },
    {
     "data": {
      "image/png": "[encoded data removed]",
      "text/plain": [
       "<Figure size 2000x200 with 1 Axes>"
      ]
     },
     "metadata": {},
     "output_type": "display_data"
    }
   ],
   "source": [
    "#Outlier Pada Kolom Length\n",
    "plt.figure(figsize=(20,2))\n",
    "sns.boxplot(data=df_outlier_data, x=df_outlier_data['Suhu rata-rata'])"
   ]
  },
  {
   "cell_type": "code",
   "execution_count": 22,
   "id": "9e9f0e19-7913-4869-894f-d4cc6189c9dd",
   "metadata": {},
   "outputs": [
    {
     "data": {
      "text/plain": [
       "0.8750000000000036"
      ]
     },
     "execution_count": 22,
     "metadata": {},
     "output_type": "execute_result"
    }
   ],
   "source": [
    "q1 = df_outlier_data['Suhu rata-rata'].quantile(0.25)\n",
    "q3 = df_outlier_data['Suhu rata-rata'].quantile(0.75)\n",
    "iqr = q3-q1\n",
    "iqr"
   ]
  },
  {
   "cell_type": "code",
   "execution_count": 23,
   "id": "a120ea91-a040-4d62-a26d-c95fb5a3af08",
   "metadata": {},
   "outputs": [
    {
     "data": {
      "text/plain": [
       "28.41250000000001"
      ]
     },
     "execution_count": 23,
     "metadata": {},
     "output_type": "execute_result"
    }
   ],
   "source": [
    "batas_atas = q3 + 1.5 * iqr\n",
    "batas_atas"
   ]
  },
  {
   "cell_type": "code",
   "execution_count": 24,
   "id": "73de75c4-a90d-4e9e-82a7-e3917fbb78de",
   "metadata": {},
   "outputs": [
    {
     "data": {
      "text/plain": [
       "24.912499999999994"
      ]
     },
     "execution_count": 24,
     "metadata": {},
     "output_type": "execute_result"
    }
   ],
   "source": [
    "batas_bawah = q1 - 1.5 * iqr\n",
    "batas_bawah"
   ]
  },
  {
   "cell_type": "code",
   "execution_count": 25,
   "id": "7cfc59fe-dfaa-43b1-b89c-8cdb48e85d4d",
   "metadata": {},
   "outputs": [
    {
     "name": "stdout",
     "output_type": "stream",
     "text": [
      "2\n"
     ]
    }
   ],
   "source": [
    "# Total Outliers Yang Ada\n",
    "total_outliers = (df_outlier_data['Suhu rata-rata'] > batas_atas).sum()\n",
    "print(total_outliers)"
   ]
  },
  {
   "cell_type": "code",
   "execution_count": 26,
   "id": "f3754c7c-c0b3-4cac-a2a7-c34528115478",
   "metadata": {},
   "outputs": [],
   "source": [
    "# Bersihkan Outlier\n",
    "df = df_outlier_data[(df_outlier_data['Suhu rata-rata'] >= batas_bawah) & (df_outlier_data['Suhu rata-rata'] <= batas_atas)]"
   ]
  },
  {
   "cell_type": "code",
   "execution_count": 27,
   "id": "3b67197a-ee76-4508-8e14-dc297edf51b9",
   "metadata": {},
   "outputs": [
    {
     "data": {
      "text/plain": [
       "<Axes: xlabel='Suhu rata-rata'>"
      ]
     },
     "execution_count": 27,
     "metadata": {},
     "output_type": "execute_result"
    },
    {
     "data": {
      "image/png": "[encoded data removed]",
      "text/plain": [
       "<Figure size 2000x200 with 1 Axes>"
      ]
     },
     "metadata": {},
     "output_type": "display_data"
    }
   ],
   "source": [
    "plt.figure(figsize=(20,2))\n",
    "sns.boxplot(data=df, x=df['Suhu rata-rata'])"
   ]
  },
  {
   "cell_type": "markdown",
   "id": "0caab468-bf8d-4800-a1c3-1f620beac6d2",
   "metadata": {},
   "source": [
    "#### Handling Outlier Kolom Suhu"
   ]
  },
  {
   "cell_type": "code",
   "execution_count": 28,
   "id": "bef7a76d-c453-4976-bf63-d5f53e0785b1",
   "metadata": {},
   "outputs": [
    {
     "data": {
      "text/plain": [
       "<Axes: xlabel='Kelembapan'>"
      ]
     },
     "execution_count": 28,
     "metadata": {},
     "output_type": "execute_result"
    },
    {
     "data": {
      "image/png": "[encoded data removed]",
      "text/plain": [
       "<Figure size 2000x200 with 1 Axes>"
      ]
     },
     "metadata": {},
     "output_type": "display_data"
    }
   ],
   "source": [
    "#Outlier Pada Kolom Length\n",
    "plt.figure(figsize=(20,2))\n",
    "sns.boxplot(data=df_outlier_data, x=df_outlier_data['Kelembapan'])"
   ]
  },
  {
   "cell_type": "code",
   "execution_count": 29,
   "id": "1c57d8fb-9ed8-46b2-85fe-f9871836c3f5",
   "metadata": {},
   "outputs": [
    {
     "data": {
      "text/plain": [
       "4.092500000000001"
      ]
     },
     "execution_count": 29,
     "metadata": {},
     "output_type": "execute_result"
    }
   ],
   "source": [
    "q1 = df_outlier_data['Kelembapan'].quantile(0.25)\n",
    "q3 = df_outlier_data['Kelembapan'].quantile(0.75)\n",
    "iqr = q3-q1\n",
    "iqr"
   ]
  },
  {
   "cell_type": "code",
   "execution_count": 30,
   "id": "902a23d5-3887-4e08-bd04-ecb8014a1ac8",
   "metadata": {},
   "outputs": [
    {
     "data": {
      "text/plain": [
       "90.23125"
      ]
     },
     "execution_count": 30,
     "metadata": {},
     "output_type": "execute_result"
    }
   ],
   "source": [
    "batas_atas = q3 + 1.5 * iqr\n",
    "batas_atas"
   ]
  },
  {
   "cell_type": "code",
   "execution_count": 31,
   "id": "426d727b-b002-4b87-bf39-f8bf29cf9a0c",
   "metadata": {},
   "outputs": [
    {
     "data": {
      "text/plain": [
       "73.86125"
      ]
     },
     "execution_count": 31,
     "metadata": {},
     "output_type": "execute_result"
    }
   ],
   "source": [
    "batas_bawah = q1 - 1.5 * iqr\n",
    "batas_bawah"
   ]
  },
  {
   "cell_type": "code",
   "execution_count": 32,
   "id": "bc748bcb-462c-4275-9ee7-43bef86ee27c",
   "metadata": {},
   "outputs": [
    {
     "name": "stdout",
     "output_type": "stream",
     "text": [
      "1\n"
     ]
    }
   ],
   "source": [
    "# Total Outliers Yang Ada\n",
    "total_outliers = (df_outlier_data['Kelembapan'] > batas_atas).sum()\n",
    "print(total_outliers)"
   ]
  },
  {
   "cell_type": "code",
   "execution_count": 33,
   "id": "92e0121c-0adb-4c23-b56a-603a784b385e",
   "metadata": {},
   "outputs": [],
   "source": [
    "# Bersihkan Outlier\n",
    "df = df_outlier_data[(df_outlier_data['Kelembapan'] >= batas_bawah) & (df_outlier_data['Kelembapan'] <= batas_atas)]"
   ]
  },
  {
   "cell_type": "code",
   "execution_count": 34,
   "id": "32e5d023-b509-4e07-badb-4a9801e97e1d",
   "metadata": {},
   "outputs": [
    {
     "data": {
      "text/plain": [
       "<Axes: xlabel='Kelembapan'>"
      ]
     },
     "execution_count": 34,
     "metadata": {},
     "output_type": "execute_result"
    },
    {
     "data": {
      "image/png": "[encoded data removed]",
      "text/plain": [
       "<Figure size 2000x200 with 1 Axes>"
      ]
     },
     "metadata": {},
     "output_type": "display_data"
    }
   ],
   "source": [
    "plt.figure(figsize=(20,2))\n",
    "sns.boxplot(data=df, x=df['Kelembapan'])"
   ]
  },
  {
   "cell_type": "markdown",
   "id": "11fae310-ec32-4cfb-a582-af1bee9d23f7",
   "metadata": {},
   "source": [
    "## Visualisasi Data"
   ]
  },
  {
   "cell_type": "markdown",
   "id": "e251cd0c-7335-406b-a476-6bd19b0a73a6",
   "metadata": {},
   "source": [
    "### Visualisasi Produksi di Setiap Provinsi"
   ]
  },
  {
   "cell_type": "code",
   "execution_count": 35,
   "id": "50fe781e-def3-44ec-aab6-5d128870e6b1",
   "metadata": {},
   "outputs": [
    {
     "data": {
      "text/plain": [
       "Provinsi\n",
       "Aceh        23\n",
       "Bengkulu    23\n",
       "Jambi       24\n",
       "Lampung     25\n",
       "Riau        23\n",
       "Name: Produksi, dtype: int64"
      ]
     },
     "execution_count": 35,
     "metadata": {},
     "output_type": "execute_result"
    }
   ],
   "source": [
    "produksi_provinsi = df.groupby('Provinsi')['Produksi'].count().sort_index()\n",
    "\n",
    "produksi_provinsi.columns = ['Provinsi', 'Produksi']\n",
    "produksi_provinsi.head()"
   ]
  },
  {
   "cell_type": "code",
   "execution_count": 36,
   "id": "ac61f3e0-8ff5-46cf-a8ca-2644924102a6",
   "metadata": {},
   "outputs": [
    {
     "data": {
      "text/plain": [
       "Provinsi\n",
       "Lampung             25\n",
       "Sumatera Selatan    25\n",
       "Jambi               24\n",
       "Name: Produksi, dtype: int64"
      ]
     },
     "execution_count": 36,
     "metadata": {},
     "output_type": "execute_result"
    }
   ],
   "source": [
    "# Melihat 3 data terbanyak\n",
    "produksi_provinsi.sort_values(ascending=False).head(3)"
   ]
  },
  {
   "cell_type": "code",
   "execution_count": 37,
   "id": "fc16e26e-db00-4ad3-ae40-8f5583e336b2",
   "metadata": {},
   "outputs": [
    {
     "data": {
      "image/png": "[encoded data removed]",
      "text/plain": [
       "<Figure size 1200x800 with 1 Axes>"
      ]
     },
     "metadata": {},
     "output_type": "display_data"
    }
   ],
   "source": [
    "# Melihat Jumlah produksi masing-masing provinsi\n",
    "plt.figure(figsize=(12,8))\n",
    "myColors = sns.color_palette('viridis')[0:5]\n",
    "produksi_provinsi.plot(kind='bar',color=myColors)\n",
    "plt.ylabel('Jumlah Produksi')\n",
    "plt.title('Provinsi')\n",
    "plt.show()"
   ]
  },
  {
   "cell_type": "markdown",
   "id": "36102a54-b736-45fe-b7ec-49efc676dd87",
   "metadata": {},
   "source": [
    "### Visualisasi Tahun Produksi"
   ]
  },
  {
   "cell_type": "code",
   "execution_count": 38,
   "id": "74a5e57f-1992-41f3-808d-9240bf3a3004",
   "metadata": {},
   "outputs": [
    {
     "data": {
      "text/plain": [
       "Tahun\n",
       "1993    7\n",
       "1994    7\n",
       "1995    8\n",
       "1996    7\n",
       "1997    8\n",
       "Name: Produksi, dtype: int64"
      ]
     },
     "execution_count": 38,
     "metadata": {},
     "output_type": "execute_result"
    }
   ],
   "source": [
    "tahun_produksi = df.groupby('Tahun')['Produksi'].count().sort_index()\n",
    "\n",
    "tahun_produksi.columns = ['Tahun', 'Produksi']\n",
    "tahun_produksi.head()"
   ]
  },
  {
   "cell_type": "code",
   "execution_count": 39,
   "id": "c1e96184-f12f-4bb3-a4a7-9295bcf0f65b",
   "metadata": {},
   "outputs": [
    {
     "data": {
      "text/plain": [
       "Tahun\n",
       "2007    8\n",
       "1995    8\n",
       "2019    8\n",
       "Name: Produksi, dtype: int64"
      ]
     },
     "execution_count": 39,
     "metadata": {},
     "output_type": "execute_result"
    }
   ],
   "source": [
    "# Melihat 3 data terbanyak\n",
    "tahun_produksi.sort_values(ascending=False).head(3)"
   ]
  },
  {
   "cell_type": "code",
   "execution_count": 40,
   "id": "99ec3216-6078-497a-ab7f-c392aef04a95",
   "metadata": {},
   "outputs": [
    {
     "data": {
      "image/png": "[encoded data removed]",
      "text/plain": [
       "<Figure size 1200x800 with 1 Axes>"
      ]
     },
     "metadata": {},
     "output_type": "display_data"
    }
   ],
   "source": [
    "# Melihat Jumlah produksi masing-masing Tahun\n",
    "plt.figure(figsize=(12,8))\n",
    "myColors = sns.color_palette('crest')[0:5]\n",
    "tahun_produksi.plot(kind='bar',color=myColors)\n",
    "plt.ylabel('Jumlah Produksi')\n",
    "plt.title('Tahun Produksi')\n",
    "plt.show()"
   ]
  },
  {
   "cell_type": "markdown",
   "id": "614a360c-d88c-48e2-adda-caa2409e2520",
   "metadata": {},
   "source": [
    "### Visualisasi Keuntungan Produksi Masing-Masing Provinsi"
   ]
  },
  {
   "cell_type": "code",
   "execution_count": 41,
   "id": "8c7edbae-490b-4e11-a8a4-e0285608968f",
   "metadata": {},
   "outputs": [
    {
     "data": {
      "text/plain": [
       "Provinsi\n",
       "Aceh        38378694.64\n",
       "Bengkulu    10511129.75\n",
       "Jambi       13204865.69\n",
       "Lampung     61770695.24\n",
       "Riau         9464173.02\n",
       "Name: Produksi, dtype: float64"
      ]
     },
     "execution_count": 41,
     "metadata": {},
     "output_type": "execute_result"
    }
   ],
   "source": [
    "untung_produksi = df.groupby('Provinsi')['Produksi'].sum().sort_index()\n",
    "\n",
    "untung_produksi.columns = ['Provinsi', 'Produksi']\n",
    "untung_produksi.head()"
   ]
  },
  {
   "cell_type": "code",
   "execution_count": 42,
   "id": "2ffabf34-18d4-4674-918c-260db9930544",
   "metadata": {},
   "outputs": [
    {
     "data": {
      "text/plain": [
       "Provinsi\n",
       "Sumatera Utara      76259268.72\n",
       "Sumatera Selatan    68561365.54\n",
       "Lampung             61770695.24\n",
       "Name: Produksi, dtype: float64"
      ]
     },
     "execution_count": 42,
     "metadata": {},
     "output_type": "execute_result"
    }
   ],
   "source": [
    "# Melihat 3 data terbanyak\n",
    "untung_produksi.sort_values(ascending=False).head(3)"
   ]
  },
  {
   "cell_type": "code",
   "execution_count": 43,
   "id": "db8b1ee7-9cb8-4f30-b3a4-00eff364b0e1",
   "metadata": {},
   "outputs": [
    {
     "data": {
      "image/png": "[encoded data removed]",
      "text/plain": [
       "<Figure size 1200x800 with 1 Axes>"
      ]
     },
     "metadata": {},
     "output_type": "display_data"
    }
   ],
   "source": [
    "import matplotlib.pyplot as plt\n",
    "import seaborn as sns\n",
    "from matplotlib.ticker import FuncFormatter\n",
    "\n",
    "plt.figure(figsize=(12,8))\n",
    "myColors = sns.color_palette('crest')[0:5]\n",
    "ax = untung_produksi.plot(kind='bar', color=myColors)\n",
    "\n",
    "ax.yaxis.set_major_formatter(FuncFormatter(lambda y, _: f'{y:.2f}'))\n",
    "\n",
    "for p in ax.patches:\n",
    "    ax.annotate(f'{p.get_height():.2f}', (p.get_x() + p.get_width() / 2., p.get_height()), \n",
    "                ha='center', va='baseline', fontsize=10, color='black', xytext=(0, 5), \n",
    "                textcoords='offset points')\n",
    "\n",
    "plt.ylabel('Keuntungan Produksi (Rp.)')\n",
    "plt.title('Provinsi Produksi')\n",
    "plt.show()\n"
   ]
  },
  {
   "cell_type": "markdown",
   "id": "8f288bdd-2bb4-48ff-986e-e952222b45f1",
   "metadata": {},
   "source": [
    "## Membangun Model"
   ]
  },
  {
   "cell_type": "code",
   "execution_count": 44,
   "id": "fc90273f-f422-408b-9a84-efc4a0cfeeea",
   "metadata": {},
   "outputs": [
    {
     "name": "stderr",
     "output_type": "stream",
     "text": [
      "/tmp/ipykernel_168310/3091043127.py:2: SettingWithCopyWarning: \n",
      "A value is trying to be set on a copy of a slice from a DataFrame.\n",
      "Try using .loc[row_indexer,col_indexer] = value instead\n",
      "\n",
      "See the caveats in the documentation: https://pandas.pydata.org/pandas-docs/stable/user_guide/indexing.html#returning-a-view-versus-a-copy\n",
      "  df[['Suhu rata-rata','Produksi']] = scaler.fit_transform(df[['Suhu rata-rata','Produksi']])\n"
     ]
    }
   ],
   "source": [
    "scaler = RobustScaler()\n",
    "df[['Suhu rata-rata','Produksi']] = scaler.fit_transform(df[['Suhu rata-rata','Produksi']])"
   ]
  },
  {
   "cell_type": "code",
   "execution_count": 45,
   "id": "09b9b945-788a-4746-934c-46b6c51ff342",
   "metadata": {},
   "outputs": [],
   "source": [
    "X = df[['Suhu rata-rata']]\n",
    "y = df['Produksi']"
   ]
  },
  {
   "cell_type": "code",
   "execution_count": 46,
   "id": "7db3fcb6-71f3-41a8-b946-259a12fafdef",
   "metadata": {},
   "outputs": [],
   "source": [
    "X_train, X_test, y_train, y_test = train_test_split(X, y, train_size = 0.7,test_size=0.3, random_state=0)"
   ]
  },
  {
   "cell_type": "code",
   "execution_count": 47,
   "id": "2e8ff928-9da8-4288-acf8-99aa9d7ed5d5",
   "metadata": {},
   "outputs": [
    {
     "data": {
      "text/html": [
       "<style>#sk-container-id-1 {\n",
       "  /* Definition of color scheme common for light and dark mode */\n",
       "  --sklearn-color-text: black;\n",
       "  --sklearn-color-line: gray;\n",
       "  /* Definition of color scheme for unfitted estimators */\n",
       "  --sklearn-color-unfitted-level-0: #fff5e6;\n",
       "  --sklearn-color-unfitted-level-1: #f6e4d2;\n",
       "  --sklearn-color-unfitted-level-2: #ffe0b3;\n",
       "  --sklearn-color-unfitted-level-3: chocolate;\n",
       "  /* Definition of color scheme for fitted estimators */\n",
       "  --sklearn-color-fitted-level-0: #f0f8ff;\n",
       "  --sklearn-color-fitted-level-1: #d4ebff;\n",
       "  --sklearn-color-fitted-level-2: #b3dbfd;\n",
       "  --sklearn-color-fitted-level-3: cornflowerblue;\n",
       "\n",
       "  /* Specific color for light theme */\n",
       "  --sklearn-color-text-on-default-background: var(--sg-text-color, var(--theme-code-foreground, var(--jp-content-font-color1, black)));\n",
       "  --sklearn-color-background: var(--sg-background-color, var(--theme-background, var(--jp-layout-color0, white)));\n",
       "  --sklearn-color-border-box: var(--sg-text-color, var(--theme-code-foreground, var(--jp-content-font-color1, black)));\n",
       "  --sklearn-color-icon: #696969;\n",
       "\n",
       "  @media (prefers-color-scheme: dark) {\n",
       "    /* Redefinition of color scheme for dark theme */\n",
       "    --sklearn-color-text-on-default-background: var(--sg-text-color, var(--theme-code-foreground, var(--jp-content-font-color1, white)));\n",
       "    --sklearn-color-background: var(--sg-background-color, var(--theme-background, var(--jp-layout-color0, #111)));\n",
       "    --sklearn-color-border-box: var(--sg-text-color, var(--theme-code-foreground, var(--jp-content-font-color1, white)));\n",
       "    --sklearn-color-icon: #878787;\n",
       "  }\n",
       "}\n",
       "\n",
       "#sk-container-id-1 {\n",
       "  color: var(--sklearn-color-text);\n",
       "}\n",
       "\n",
       "#sk-container-id-1 pre {\n",
       "  padding: 0;\n",
       "}\n",
       "\n",
       "#sk-container-id-1 input.sk-hidden--visually {\n",
       "  border: 0;\n",
       "  clip: rect(1px 1px 1px 1px);\n",
       "  clip: rect(1px, 1px, 1px, 1px);\n",
       "  height: 1px;\n",
       "  margin: -1px;\n",
       "  overflow: hidden;\n",
       "  padding: 0;\n",
       "  position: absolute;\n",
       "  width: 1px;\n",
       "}\n",
       "\n",
       "#sk-container-id-1 div.sk-dashed-wrapped {\n",
       "  border: 1px dashed var(--sklearn-color-line);\n",
       "  margin: 0 0.4em 0.5em 0.4em;\n",
       "  box-sizing: border-box;\n",
       "  padding-bottom: 0.4em;\n",
       "  background-color: var(--sklearn-color-background);\n",
       "}\n",
       "\n",
       "#sk-container-id-1 div.sk-container {\n",
       "  /* jupyter's `normalize.less` sets `[hidden] { display: none; }`\n",
       "     but bootstrap.min.css set `[hidden] { display: none !important; }`\n",
       "     so we also need the `!important` here to be able to override the\n",
       "     default hidden behavior on the sphinx rendered scikit-learn.org.\n",
       "     See: https://github.com/scikit-learn/scikit-learn/issues/21755 */\n",
       "  display: inline-block !important;\n",
       "  position: relative;\n",
       "}\n",
       "\n",
       "#sk-container-id-1 div.sk-text-repr-fallback {\n",
       "  display: none;\n",
       "}\n",
       "\n",
       "div.sk-parallel-item,\n",
       "div.sk-serial,\n",
       "div.sk-item {\n",
       "  /* draw centered vertical line to link estimators */\n",
       "  background-image: linear-gradient(var(--sklearn-color-text-on-default-background), var(--sklearn-color-text-on-default-background));\n",
       "  background-size: 2px 100%;\n",
       "  background-repeat: no-repeat;\n",
       "  background-position: center center;\n",
       "}\n",
       "\n",
       "/* Parallel-specific style estimator block */\n",
       "\n",
       "#sk-container-id-1 div.sk-parallel-item::after {\n",
       "  content: \"\";\n",
       "  width: 100%;\n",
       "  border-bottom: 2px solid var(--sklearn-color-text-on-default-background);\n",
       "  flex-grow: 1;\n",
       "}\n",
       "\n",
       "#sk-container-id-1 div.sk-parallel {\n",
       "  display: flex;\n",
       "  align-items: stretch;\n",
       "  justify-content: center;\n",
       "  background-color: var(--sklearn-color-background);\n",
       "  position: relative;\n",
       "}\n",
       "\n",
       "#sk-container-id-1 div.sk-parallel-item {\n",
       "  display: flex;\n",
       "  flex-direction: column;\n",
       "}\n",
       "\n",
       "#sk-container-id-1 div.sk-parallel-item:first-child::after {\n",
       "  align-self: flex-end;\n",
       "  width: 50%;\n",
       "}\n",
       "\n",
       "#sk-container-id-1 div.sk-parallel-item:last-child::after {\n",
       "  align-self: flex-start;\n",
       "  width: 50%;\n",
       "}\n",
       "\n",
       "#sk-container-id-1 div.sk-parallel-item:only-child::after {\n",
       "  width: 0;\n",
       "}\n",
       "\n",
       "/* Serial-specific style estimator block */\n",
       "\n",
       "#sk-container-id-1 div.sk-serial {\n",
       "  display: flex;\n",
       "  flex-direction: column;\n",
       "  align-items: center;\n",
       "  background-color: var(--sklearn-color-background);\n",
       "  padding-right: 1em;\n",
       "  padding-left: 1em;\n",
       "}\n",
       "\n",
       "\n",
       "/* Toggleable style: style used for estimator/Pipeline/ColumnTransformer box that is\n",
       "clickable and can be expanded/collapsed.\n",
       "- Pipeline and ColumnTransformer use this feature and define the default style\n",
       "- Estimators will overwrite some part of the style using the `sk-estimator` class\n",
       "*/\n",
       "\n",
       "/* Pipeline and ColumnTransformer style (default) */\n",
       "\n",
       "#sk-container-id-1 div.sk-toggleable {\n",
       "  /* Default theme specific background. It is overwritten whether we have a\n",
       "  specific estimator or a Pipeline/ColumnTransformer */\n",
       "  background-color: var(--sklearn-color-background);\n",
       "}\n",
       "\n",
       "/* Toggleable label */\n",
       "#sk-container-id-1 label.sk-toggleable__label {\n",
       "  cursor: pointer;\n",
       "  display: block;\n",
       "  width: 100%;\n",
       "  margin-bottom: 0;\n",
       "  padding: 0.5em;\n",
       "  box-sizing: border-box;\n",
       "  text-align: center;\n",
       "}\n",
       "\n",
       "#sk-container-id-1 label.sk-toggleable__label-arrow:before {\n",
       "  /* Arrow on the left of the label */\n",
       "  content: \"▸\";\n",
       "  float: left;\n",
       "  margin-right: 0.25em;\n",
       "  color: var(--sklearn-color-icon);\n",
       "}\n",
       "\n",
       "#sk-container-id-1 label.sk-toggleable__label-arrow:hover:before {\n",
       "  color: var(--sklearn-color-text);\n",
       "}\n",
       "\n",
       "/* Toggleable content - dropdown */\n",
       "\n",
       "#sk-container-id-1 div.sk-toggleable__content {\n",
       "  max-height: 0;\n",
       "  max-width: 0;\n",
       "  overflow: hidden;\n",
       "  text-align: left;\n",
       "  /* unfitted */\n",
       "  background-color: var(--sklearn-color-unfitted-level-0);\n",
       "}\n",
       "\n",
       "#sk-container-id-1 div.sk-toggleable__content.fitted {\n",
       "  /* fitted */\n",
       "  background-color: var(--sklearn-color-fitted-level-0);\n",
       "}\n",
       "\n",
       "#sk-container-id-1 div.sk-toggleable__content pre {\n",
       "  margin: 0.2em;\n",
       "  border-radius: 0.25em;\n",
       "  color: var(--sklearn-color-text);\n",
       "  /* unfitted */\n",
       "  background-color: var(--sklearn-color-unfitted-level-0);\n",
       "}\n",
       "\n",
       "#sk-container-id-1 div.sk-toggleable__content.fitted pre {\n",
       "  /* unfitted */\n",
       "  background-color: var(--sklearn-color-fitted-level-0);\n",
       "}\n",
       "\n",
       "#sk-container-id-1 input.sk-toggleable__control:checked~div.sk-toggleable__content {\n",
       "  /* Expand drop-down */\n",
       "  max-height: 200px;\n",
       "  max-width: 100%;\n",
       "  overflow: auto;\n",
       "}\n",
       "\n",
       "#sk-container-id-1 input.sk-toggleable__control:checked~label.sk-toggleable__label-arrow:before {\n",
       "  content: \"▾\";\n",
       "}\n",
       "\n",
       "/* Pipeline/ColumnTransformer-specific style */\n",
       "\n",
       "#sk-container-id-1 div.sk-label input.sk-toggleable__control:checked~label.sk-toggleable__label {\n",
       "  color: var(--sklearn-color-text);\n",
       "  background-color: var(--sklearn-color-unfitted-level-2);\n",
       "}\n",
       "\n",
       "#sk-container-id-1 div.sk-label.fitted input.sk-toggleable__control:checked~label.sk-toggleable__label {\n",
       "  background-color: var(--sklearn-color-fitted-level-2);\n",
       "}\n",
       "\n",
       "/* Estimator-specific style */\n",
       "\n",
       "/* Colorize estimator box */\n",
       "#sk-container-id-1 div.sk-estimator input.sk-toggleable__control:checked~label.sk-toggleable__label {\n",
       "  /* unfitted */\n",
       "  background-color: var(--sklearn-color-unfitted-level-2);\n",
       "}\n",
       "\n",
       "#sk-container-id-1 div.sk-estimator.fitted input.sk-toggleable__control:checked~label.sk-toggleable__label {\n",
       "  /* fitted */\n",
       "  background-color: var(--sklearn-color-fitted-level-2);\n",
       "}\n",
       "\n",
       "#sk-container-id-1 div.sk-label label.sk-toggleable__label,\n",
       "#sk-container-id-1 div.sk-label label {\n",
       "  /* The background is the default theme color */\n",
       "  color: var(--sklearn-color-text-on-default-background);\n",
       "}\n",
       "\n",
       "/* On hover, darken the color of the background */\n",
       "#sk-container-id-1 div.sk-label:hover label.sk-toggleable__label {\n",
       "  color: var(--sklearn-color-text);\n",
       "  background-color: var(--sklearn-color-unfitted-level-2);\n",
       "}\n",
       "\n",
       "/* Label box, darken color on hover, fitted */\n",
       "#sk-container-id-1 div.sk-label.fitted:hover label.sk-toggleable__label.fitted {\n",
       "  color: var(--sklearn-color-text);\n",
       "  background-color: var(--sklearn-color-fitted-level-2);\n",
       "}\n",
       "\n",
       "/* Estimator label */\n",
       "\n",
       "#sk-container-id-1 div.sk-label label {\n",
       "  font-family: monospace;\n",
       "  font-weight: bold;\n",
       "  display: inline-block;\n",
       "  line-height: 1.2em;\n",
       "}\n",
       "\n",
       "#sk-container-id-1 div.sk-label-container {\n",
       "  text-align: center;\n",
       "}\n",
       "\n",
       "/* Estimator-specific */\n",
       "#sk-container-id-1 div.sk-estimator {\n",
       "  font-family: monospace;\n",
       "  border: 1px dotted var(--sklearn-color-border-box);\n",
       "  border-radius: 0.25em;\n",
       "  box-sizing: border-box;\n",
       "  margin-bottom: 0.5em;\n",
       "  /* unfitted */\n",
       "  background-color: var(--sklearn-color-unfitted-level-0);\n",
       "}\n",
       "\n",
       "#sk-container-id-1 div.sk-estimator.fitted {\n",
       "  /* fitted */\n",
       "  background-color: var(--sklearn-color-fitted-level-0);\n",
       "}\n",
       "\n",
       "/* on hover */\n",
       "#sk-container-id-1 div.sk-estimator:hover {\n",
       "  /* unfitted */\n",
       "  background-color: var(--sklearn-color-unfitted-level-2);\n",
       "}\n",
       "\n",
       "#sk-container-id-1 div.sk-estimator.fitted:hover {\n",
       "  /* fitted */\n",
       "  background-color: var(--sklearn-color-fitted-level-2);\n",
       "}\n",
       "\n",
       "/* Specification for estimator info (e.g. \"i\" and \"?\") */\n",
       "\n",
       "/* Common style for \"i\" and \"?\" */\n",
       "\n",
       ".sk-estimator-doc-link,\n",
       "a:link.sk-estimator-doc-link,\n",
       "a:visited.sk-estimator-doc-link {\n",
       "  float: right;\n",
       "  font-size: smaller;\n",
       "  line-height: 1em;\n",
       "  font-family: monospace;\n",
       "  background-color: var(--sklearn-color-background);\n",
       "  border-radius: 1em;\n",
       "  height: 1em;\n",
       "  width: 1em;\n",
       "  text-decoration: none !important;\n",
       "  margin-left: 1ex;\n",
       "  /* unfitted */\n",
       "  border: var(--sklearn-color-unfitted-level-1) 1pt solid;\n",
       "  color: var(--sklearn-color-unfitted-level-1);\n",
       "}\n",
       "\n",
       ".sk-estimator-doc-link.fitted,\n",
       "a:link.sk-estimator-doc-link.fitted,\n",
       "a:visited.sk-estimator-doc-link.fitted {\n",
       "  /* fitted */\n",
       "  border: var(--sklearn-color-fitted-level-1) 1pt solid;\n",
       "  color: var(--sklearn-color-fitted-level-1);\n",
       "}\n",
       "\n",
       "/* On hover */\n",
       "div.sk-estimator:hover .sk-estimator-doc-link:hover,\n",
       ".sk-estimator-doc-link:hover,\n",
       "div.sk-label-container:hover .sk-estimator-doc-link:hover,\n",
       ".sk-estimator-doc-link:hover {\n",
       "  /* unfitted */\n",
       "  background-color: var(--sklearn-color-unfitted-level-3);\n",
       "  color: var(--sklearn-color-background);\n",
       "  text-decoration: none;\n",
       "}\n",
       "\n",
       "div.sk-estimator.fitted:hover .sk-estimator-doc-link.fitted:hover,\n",
       ".sk-estimator-doc-link.fitted:hover,\n",
       "div.sk-label-container:hover .sk-estimator-doc-link.fitted:hover,\n",
       ".sk-estimator-doc-link.fitted:hover {\n",
       "  /* fitted */\n",
       "  background-color: var(--sklearn-color-fitted-level-3);\n",
       "  color: var(--sklearn-color-background);\n",
       "  text-decoration: none;\n",
       "}\n",
       "\n",
       "/* Span, style for the box shown on hovering the info icon */\n",
       ".sk-estimator-doc-link span {\n",
       "  display: none;\n",
       "  z-index: 9999;\n",
       "  position: relative;\n",
       "  font-weight: normal;\n",
       "  right: .2ex;\n",
       "  padding: .5ex;\n",
       "  margin: .5ex;\n",
       "  width: min-content;\n",
       "  min-width: 20ex;\n",
       "  max-width: 50ex;\n",
       "  color: var(--sklearn-color-text);\n",
       "  box-shadow: 2pt 2pt 4pt #999;\n",
       "  /* unfitted */\n",
       "  background: var(--sklearn-color-unfitted-level-0);\n",
       "  border: .5pt solid var(--sklearn-color-unfitted-level-3);\n",
       "}\n",
       "\n",
       ".sk-estimator-doc-link.fitted span {\n",
       "  /* fitted */\n",
       "  background: var(--sklearn-color-fitted-level-0);\n",
       "  border: var(--sklearn-color-fitted-level-3);\n",
       "}\n",
       "\n",
       ".sk-estimator-doc-link:hover span {\n",
       "  display: block;\n",
       "}\n",
       "\n",
       "/* \"?\"-specific style due to the `<a>` HTML tag */\n",
       "\n",
       "#sk-container-id-1 a.estimator_doc_link {\n",
       "  float: right;\n",
       "  font-size: 1rem;\n",
       "  line-height: 1em;\n",
       "  font-family: monospace;\n",
       "  background-color: var(--sklearn-color-background);\n",
       "  border-radius: 1rem;\n",
       "  height: 1rem;\n",
       "  width: 1rem;\n",
       "  text-decoration: none;\n",
       "  /* unfitted */\n",
       "  color: var(--sklearn-color-unfitted-level-1);\n",
       "  border: var(--sklearn-color-unfitted-level-1) 1pt solid;\n",
       "}\n",
       "\n",
       "#sk-container-id-1 a.estimator_doc_link.fitted {\n",
       "  /* fitted */\n",
       "  border: var(--sklearn-color-fitted-level-1) 1pt solid;\n",
       "  color: var(--sklearn-color-fitted-level-1);\n",
       "}\n",
       "\n",
       "/* On hover */\n",
       "#sk-container-id-1 a.estimator_doc_link:hover {\n",
       "  /* unfitted */\n",
       "  background-color: var(--sklearn-color-unfitted-level-3);\n",
       "  color: var(--sklearn-color-background);\n",
       "  text-decoration: none;\n",
       "}\n",
       "\n",
       "#sk-container-id-1 a.estimator_doc_link.fitted:hover {\n",
       "  /* fitted */\n",
       "  background-color: var(--sklearn-color-fitted-level-3);\n",
       "}\n",
       "</style><div id=\"sk-container-id-1\" class=\"sk-top-container\"><div class=\"sk-text-repr-fallback\"><pre>LinearRegression()</pre><b>In a Jupyter environment, please rerun this cell to show the HTML representation or trust the notebook. <br />On GitHub, the HTML representation is unable to render, please try loading this page with nbviewer.org.</b></div><div class=\"sk-container\" hidden><div class=\"sk-item\"><div class=\"sk-estimator fitted sk-toggleable\"><input class=\"sk-toggleable__control sk-hidden--visually\" id=\"sk-estimator-id-1\" type=\"checkbox\" checked><label for=\"sk-estimator-id-1\" class=\"sk-toggleable__label fitted sk-toggleable__label-arrow fitted\">&nbsp;&nbsp;LinearRegression<a class=\"sk-estimator-doc-link fitted\" rel=\"noreferrer\" target=\"_blank\" href=\"https://scikit-learn.org/1.4/modules/generated/sklearn.linear_model.LinearRegression.html\">?<span>Documentation for LinearRegression</span></a><span class=\"sk-estimator-doc-link fitted\">i<span>Fitted</span></span></label><div class=\"sk-toggleable__content fitted\"><pre>LinearRegression()</pre></div> </div></div></div></div>"
      ],
      "text/plain": [
       "LinearRegression()"
      ]
     },
     "execution_count": 47,
     "metadata": {},
     "output_type": "execute_result"
    }
   ],
   "source": [
    "model_linear = LinearRegression()\n",
    "\n",
    "model_linear.fit(X_train, y_train)"
   ]
  },
  {
   "cell_type": "code",
   "execution_count": 48,
   "id": "1fc6588e-922d-4e90-84f4-75a13863684a",
   "metadata": {},
   "outputs": [
    {
     "name": "stdout",
     "output_type": "stream",
     "text": [
      "Hasil Prediksi adalah :  [-0.13608021  0.08547789 -0.11825369  0.16187724 -0.15900001 -0.05204093\n",
      " -0.09278724 -0.11825369  0.44200816 -0.03166777  0.13641079  0.02435842\n",
      "  0.11094434  0.09566447  0.16697053  0.07274467 -0.19974633  0.00907855\n",
      "  0.18734368  0.16187724 -0.32198528  0.12367756  0.0803846  -0.0393077\n",
      "  0.07783796 -0.07496073  0.5693404  -0.07241409  0.06765138  0.06001144\n",
      "  0.14405072 -0.03421441  0.26374303 -0.08769395  0.01671848  0.06765138\n",
      " -0.19465304  0.08547789 -0.17173323  0.15678395 -0.02657448 -0.0163879\n",
      "  0.31467592  0.16187724 -0.34745172  0.06255809  0.01926513  0.01162519\n",
      " -0.0163879   0.13641079  0.01417184  0.16187724 -0.19465304  0.16187724\n",
      "  0.23827658]\n"
     ]
    }
   ],
   "source": [
    "model_prediction_lr = model_linear.predict(X_test)\n",
    "\n",
    "print(\"Hasil Prediksi adalah : \", model_prediction_lr)"
   ]
  },
  {
   "cell_type": "code",
   "execution_count": 49,
   "id": "260439a5-2db1-4f33-bd7c-c8c3a990ffdd",
   "metadata": {},
   "outputs": [],
   "source": [
    "eval_lr_model = pd.DataFrame({'Hasil Sebenarnya': y_test, 'Hasil Prediksi': model_prediction_lr})"
   ]
  },
  {
   "cell_type": "code",
   "execution_count": 50,
   "id": "6a022e84-60e5-4ed8-ad45-442c2f8d9ffb",
   "metadata": {},
   "outputs": [
    {
     "data": {
      "text/html": [
       "<div>\n",
       "<style scoped>\n",
       "    .dataframe tbody tr th:only-of-type {\n",
       "        vertical-align: middle;\n",
       "    }\n",
       "\n",
       "    .dataframe tbody tr th {\n",
       "        vertical-align: top;\n",
       "    }\n",
       "\n",
       "    .dataframe thead th {\n",
       "        text-align: right;\n",
       "    }\n",
       "</style>\n",
       "<table border=\"1\" class=\"dataframe\">\n",
       "  <thead>\n",
       "    <tr style=\"text-align: right;\">\n",
       "      <th></th>\n",
       "      <th>Hasil Sebenarnya</th>\n",
       "      <th>Hasil Prediksi</th>\n",
       "    </tr>\n",
       "  </thead>\n",
       "  <tbody>\n",
       "    <tr>\n",
       "      <th>111</th>\n",
       "      <td>-0.692580</td>\n",
       "      <td>-0.136080</td>\n",
       "    </tr>\n",
       "    <tr>\n",
       "      <th>12</th>\n",
       "      <td>-0.104988</td>\n",
       "      <td>0.085478</td>\n",
       "    </tr>\n",
       "    <tr>\n",
       "      <th>84</th>\n",
       "      <td>-0.606701</td>\n",
       "      <td>-0.118254</td>\n",
       "    </tr>\n",
       "    <tr>\n",
       "      <th>218</th>\n",
       "      <td>1.042231</td>\n",
       "      <td>0.161877</td>\n",
       "    </tr>\n",
       "    <tr>\n",
       "      <th>172</th>\n",
       "      <td>-0.634568</td>\n",
       "      <td>-0.159000</td>\n",
       "    </tr>\n",
       "    <tr>\n",
       "      <th>83</th>\n",
       "      <td>-0.084829</td>\n",
       "      <td>-0.052041</td>\n",
       "    </tr>\n",
       "    <tr>\n",
       "      <th>181</th>\n",
       "      <td>-0.636495</td>\n",
       "      <td>-0.092787</td>\n",
       "    </tr>\n",
       "    <tr>\n",
       "      <th>161</th>\n",
       "      <td>1.056912</td>\n",
       "      <td>-0.118254</td>\n",
       "    </tr>\n",
       "    <tr>\n",
       "      <th>203</th>\n",
       "      <td>0.170086</td>\n",
       "      <td>0.442008</td>\n",
       "    </tr>\n",
       "    <tr>\n",
       "      <th>143</th>\n",
       "      <td>0.026152</td>\n",
       "      <td>-0.031668</td>\n",
       "    </tr>\n",
       "  </tbody>\n",
       "</table>\n",
       "</div>"
      ],
      "text/plain": [
       "     Hasil Sebenarnya  Hasil Prediksi\n",
       "111         -0.692580       -0.136080\n",
       "12          -0.104988        0.085478\n",
       "84          -0.606701       -0.118254\n",
       "218          1.042231        0.161877\n",
       "172         -0.634568       -0.159000\n",
       "83          -0.084829       -0.052041\n",
       "181         -0.636495       -0.092787\n",
       "161          1.056912       -0.118254\n",
       "203          0.170086        0.442008\n",
       "143          0.026152       -0.031668"
      ]
     },
     "execution_count": 50,
     "metadata": {},
     "output_type": "execute_result"
    }
   ],
   "source": [
    "eval_lr_model.head(10)"
   ]
  },
  {
   "cell_type": "code",
   "execution_count": 51,
   "id": "13b87e50-8942-4bae-988b-eb6959492379",
   "metadata": {},
   "outputs": [
    {
     "name": "stdout",
     "output_type": "stream",
     "text": [
      "MSE model Linear Regression       : 0.3694839478207732\n",
      "RMSE model Linear Regression      : 0.6078519127392569\n",
      "R-squared model Linear Regression : 1.23%\n"
     ]
    }
   ],
   "source": [
    "mse = mean_squared_error(y_test, model_prediction_lr)       \n",
    "rmse = np.sqrt(mse)                             \n",
    "r2 = r2_score(y_test, model_prediction_lr)    \n",
    "r2_percentage = r2 * 100\n",
    "\n",
    "print(f'MSE model Linear Regression       : {mse}')\n",
    "print(f'RMSE model Linear Regression      : {rmse}')\n",
    "print(f'R-squared model Linear Regression : {r2_percentage:.2f}%')"
   ]
  },
  {
   "cell_type": "markdown",
   "id": "842d2086-9f55-4ac8-a6a3-2dd2f027cb85",
   "metadata": {},
   "source": [
    "### Logisitic"
   ]
  },
  {
   "cell_type": "code",
   "execution_count": 54,
   "id": "136c7cf7-be7b-44a8-965e-7829db2eaee2",
   "metadata": {},
   "outputs": [],
   "source": [
    "model_logistic = LogisticRegression(solver = 'lbfgs', max_iter = 1000)"
   ]
  },
  {
   "cell_type": "code",
   "execution_count": null,
   "id": "6e908876-f78d-47a7-be9e-8f3489745a33",
   "metadata": {},
   "outputs": [],
   "source": [
    "model_prediction_logistic = model_logistic.predict(X_test)"
   ]
  },
  {
   "cell_type": "code",
   "execution_count": null,
   "id": "68b93950-48b1-47ac-a26b-f0dcddc9a4df",
   "metadata": {},
   "outputs": [],
   "source": []
  },
  {
   "cell_type": "code",
   "execution_count": null,
   "id": "7140b332-2a99-421d-b03b-7fb239d56c92",
   "metadata": {},
   "outputs": [],
   "source": []
  },
  {
   "cell_type": "code",
   "execution_count": null,
   "id": "200a4b24-cea5-4372-8e7f-6d74e1df9c27",
   "metadata": {},
   "outputs": [],
   "source": []
  }
 ],
 "metadata": {
  "kernelspec": {
   "display_name": "Python 3 (ipykernel)",
   "language": "python",
   "name": "python3"
  },
  "language_info": {
   "codemirror_mode": {
    "name": "ipython",
    "version": 3
   },
   "file_extension": ".py",
   "mimetype": "text/x-python",
   "name": "python",
   "nbconvert_exporter": "python",
   "pygments_lexer": "ipython3",
   "version": "3.10.12"
  }
 },
 "nbformat": 4,
 "nbformat_minor": 5
}
